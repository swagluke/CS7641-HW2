{
  "nbformat": 4,
  "nbformat_minor": 0,
  "metadata": {
    "kernelspec": {
      "display_name": "Python 3",
      "language": "python",
      "name": "python3"
    },
    "language_info": {
      "codemirror_mode": {
        "name": "ipython",
        "version": 3
      },
      "file_extension": ".py",
      "mimetype": "text/x-python",
      "name": "python",
      "nbconvert_exporter": "python",
      "pygments_lexer": "ipython3",
      "version": "3.7.5"
    },
    "colab": {
      "name": "NeuralNetwork-GeneticAlg.ipynb",
      "provenance": [],
      "collapsed_sections": []
    }
  },
  "cells": [
    {
      "cell_type": "code",
      "metadata": {
        "id": "A_sncFuH0V9D",
        "outputId": "b3cc53ce-2836-47ac-9b52-fe80daa117f4",
        "colab": {
          "base_uri": "https://localhost:8080/"
        }
      },
      "source": [
        "!pip install mlrose_hiive\n",
        "\n",
        "import time\n",
        "import sklearn\n",
        "import numpy as np\n",
        "import pandas as pd\n",
        "from IPython.display import display\n",
        "from sklearn.model_selection import train_test_split\n",
        "pd.options.display.max_columns = None\n",
        "import matplotlib.pyplot as plt\n",
        "import matplotlib\n",
        "matplotlib.rc('figure', figsize=[10,5])\n",
        "import mlrose_hiive\n",
        "from sklearn.metrics import f1_score\n",
        "from google.colab import drive\n",
        "from sklearn import preprocessing\n",
        "from sklearn.model_selection import StratifiedShuffleSplit\n",
        "from sklearn.metrics import f1_score, accuracy_score, classification_report"
      ],
      "execution_count": 1,
      "outputs": [
        {
          "output_type": "stream",
          "text": [
            "Requirement already satisfied: mlrose_hiive in /usr/local/lib/python3.6/dist-packages (2.1.3)\n",
            "Requirement already satisfied: numpy in /usr/local/lib/python3.6/dist-packages (from mlrose_hiive) (1.18.5)\n",
            "Requirement already satisfied: pandas in /usr/local/lib/python3.6/dist-packages (from mlrose_hiive) (1.1.2)\n",
            "Requirement already satisfied: scipy in /usr/local/lib/python3.6/dist-packages (from mlrose_hiive) (1.4.1)\n",
            "Requirement already satisfied: joblib in /usr/local/lib/python3.6/dist-packages (from mlrose_hiive) (0.16.0)\n",
            "Requirement already satisfied: networkx in /usr/local/lib/python3.6/dist-packages (from mlrose_hiive) (2.5)\n",
            "Requirement already satisfied: scikit-learn in /usr/local/lib/python3.6/dist-packages (from mlrose_hiive) (0.22.2.post1)\n",
            "Requirement already satisfied: pytz>=2017.2 in /usr/local/lib/python3.6/dist-packages (from pandas->mlrose_hiive) (2018.9)\n",
            "Requirement already satisfied: python-dateutil>=2.7.3 in /usr/local/lib/python3.6/dist-packages (from pandas->mlrose_hiive) (2.8.1)\n",
            "Requirement already satisfied: decorator>=4.3.0 in /usr/local/lib/python3.6/dist-packages (from networkx->mlrose_hiive) (4.4.2)\n",
            "Requirement already satisfied: six>=1.5 in /usr/local/lib/python3.6/dist-packages (from python-dateutil>=2.7.3->pandas->mlrose_hiive) (1.15.0)\n"
          ],
          "name": "stdout"
        }
      ]
    },
    {
      "cell_type": "code",
      "metadata": {
        "id": "pXWrRnM-0V9H"
      },
      "source": [
        "np.random.seed(44)\n",
        "train_data = pd.read_csv('sample_data/mnist_train_small.csv')\n",
        "test_data = pd.read_csv('sample_data/mnist_test.csv')"
      ],
      "execution_count": 2,
      "outputs": []
    },
    {
      "cell_type": "code",
      "metadata": {
        "id": "Blt_IYQg0V9L"
      },
      "source": [
        "train_y = train_data['6']\n",
        "train_y.columns = ['label']\n",
        "test_y = test_data['7']\n",
        "test_y.columns = ['label']\n",
        "train_X = train_data.drop(columns = ['6'])\n",
        "test_X = test_data.drop(columns = ['7'])\n",
        "\n",
        "feature_names = []\n",
        "for i in range(len(train_X.columns)):\n",
        "    feature_names.append(i)\n",
        "\n",
        "train_X.columns = feature_names\n",
        "test_X.columns = feature_names "
      ],
      "execution_count": 3,
      "outputs": []
    },
    {
      "cell_type": "markdown",
      "metadata": {
        "id": "DzFZupya0V9T"
      },
      "source": [
        "  'pop_size': [250],\n",
        "  'mutation_prob': [0.1, 0.25],\n",
        "  'learning_rate': [0.01, 0.1],  \n",
        "  'activation': [mlrose_hiive.neural.activation.relu],\n",
        "  'max_iters': [1000]\n",
        "})"
      ]
    },
    {
      "cell_type": "code",
      "metadata": {
        "id": "GoXaJ8490V9U",
        "outputId": "b24f4cc3-54f6-460a-edf5-18dd4068e180",
        "colab": {
          "base_uri": "https://localhost:8080/"
        }
      },
      "source": [
        "start_time = time.time()\n",
        "\n",
        "nn_model1 = mlrose_hiive.NeuralNetwork(hidden_nodes = [60,60], activation = 'relu',\n",
        "                                 algorithm = 'genetic_alg', \n",
        "                                 max_iters = 1000,\n",
        "                                 bias = True, is_classifier = True, \n",
        "                                 learning_rate = 0.01,\n",
        "                                 early_stopping = True,\n",
        "                                 max_attempts = 100,\n",
        "                                 random_state = 44,\n",
        "                                 pop_size=100,\n",
        "                                 mutation_prob=0.1)\n",
        "nn_model1.fit(train_X, pd.get_dummies(train_y.values.ravel()).values)\n",
        "\n",
        "end_time = time.time()\n",
        "run_time = end_time - start_time\n",
        "\n",
        "print(\"Genetic Algorithm 1st Model Run time: \" + str(run_time))"
      ],
      "execution_count": 4,
      "outputs": [
        {
          "output_type": "stream",
          "text": [
            "Genetic Algorithm 1st Model Run time: 2674.4397780895233\n"
          ],
          "name": "stdout"
        }
      ]
    },
    {
      "cell_type": "code",
      "metadata": {
        "id": "-ddU9qsg0V9W"
      },
      "source": [
        "y_pred = nn_model1.predict(test_X)\n",
        "# print(classification_report(pd.get_dummies(test_y.values.ravel()).values, y_pred))\n",
        "y_pred_train = nn_model1.predict(train_X)\n",
        "# print(classification_report(pd.get_dummies(train_y.values.ravel()).values, y_pred_train))"
      ],
      "execution_count": 17,
      "outputs": []
    },
    {
      "cell_type": "code",
      "metadata": {
        "id": "PHXC8cKK0V9a",
        "outputId": "08109231-2e7f-4b43-b8dc-cb1f70f7b66e",
        "colab": {
          "base_uri": "https://localhost:8080/"
        }
      },
      "source": [
        "start_time = time.time()\n",
        "\n",
        "nn_model2 = mlrose_hiive.NeuralNetwork(hidden_nodes = [60,60], activation = 'relu',\n",
        "                                 algorithm = 'genetic_alg', \n",
        "                                 max_iters = 100,\n",
        "                                 bias = True, is_classifier = True, \n",
        "                                 learning_rate = 0.1,\n",
        "                                 early_stopping = True,\n",
        "                                 max_attempts = 100,\n",
        "                                 random_state = 44,\n",
        "                                 pop_size=100,\n",
        "                                 mutation_prob=0.1)\n",
        "nn_model2.fit(train_X, pd.get_dummies(train_y.values.ravel()).values)\n",
        "\n",
        "end_time = time.time()\n",
        "run_time = end_time - start_time\n",
        "\n",
        "print(\"Genetic Algorithm 2nd Model Run time: \" + str(run_time))"
      ],
      "execution_count": 7,
      "outputs": [
        {
          "output_type": "stream",
          "text": [
            "Genetic Algorithm 2nd Model Run time: 2671.2782003879547\n"
          ],
          "name": "stdout"
        }
      ]
    },
    {
      "cell_type": "code",
      "metadata": {
        "id": "Ky5LeSSm0V9c"
      },
      "source": [
        "from sklearn.metrics import f1_score, accuracy_score, classification_report\n",
        "y_pred = nn_model2.predict(test_X)\n",
        "# print(classification_report(pd.get_dummies(test_y.values.ravel()).values, y_pred))\n",
        "y_pred_train = nn_model2.predict(train_X)\n",
        "# print(classification_report(pd.get_dummies(train_y.values.ravel()).values, y_pred_train))"
      ],
      "execution_count": 16,
      "outputs": []
    },
    {
      "cell_type": "code",
      "metadata": {
        "id": "yzAzzKk-0V9e",
        "outputId": "50613fa0-c884-4216-85f2-77e99a4ead3d",
        "colab": {
          "base_uri": "https://localhost:8080/"
        }
      },
      "source": [
        "start_time = time.time()\n",
        "\n",
        "nn_model3 = mlrose_hiive.NeuralNetwork(hidden_nodes = [60,60], activation = 'relu',\n",
        "                                 algorithm = 'genetic_alg', \n",
        "                                 max_iters = 100,\n",
        "                                 bias = True, is_classifier = True, \n",
        "                                 learning_rate = 0.1,\n",
        "                                 early_stopping = True,\n",
        "                                 max_attempts = 100,\n",
        "                                 random_state = 44,\n",
        "                                 pop_size=100,\n",
        "                                 mutation_prob=0.25)\n",
        "nn_model3.fit(train_X, pd.get_dummies(train_y.values.ravel()).values)\n",
        "\n",
        "end_time = time.time()\n",
        "run_time = end_time - start_time\n",
        "\n",
        "print(\"Genetic Algorithm 3rd Model Run time: \" + str(run_time))"
      ],
      "execution_count": 9,
      "outputs": [
        {
          "output_type": "stream",
          "text": [
            "Genetic Algorithm 3rd Model Run time: 2822.3233544826508\n"
          ],
          "name": "stdout"
        }
      ]
    },
    {
      "cell_type": "code",
      "metadata": {
        "id": "TFDV45uR0V9g"
      },
      "source": [
        "from sklearn.metrics import f1_score, accuracy_score, classification_report\n",
        "y_pred = nn_model3.predict(test_X)\n",
        "# print(classification_report(pd.get_dummies(test_y.values.ravel()).values, y_pred))\n",
        "y_pred_train = nn_model3.predict(train_X)\n",
        "# print(classification_report(pd.get_dummies(train_y.values.ravel()).values, y_pred_train))"
      ],
      "execution_count": 13,
      "outputs": []
    },
    {
      "cell_type": "code",
      "metadata": {
        "id": "Wldf7XcN0V9j"
      },
      "source": [
        "start_time = time.time()\n",
        "\n",
        "nn_model4 = mlrose_hiive.NeuralNetwork(hidden_nodes = [60,60], activation = 'relu',\n",
        "                                 algorithm = 'genetic_alg', \n",
        "                                 max_iters = 100,\n",
        "                                 bias = True, is_classifier = True, \n",
        "                                 learning_rate = 0.01,\n",
        "                                 early_stopping = True,\n",
        "                                 max_attempts = 100,\n",
        "                                 random_state = 44,\n",
        "                                 pop_size=100,\n",
        "                                 mutation_prob=0.25)\n",
        "nn_model4.fit(train_X, pd.get_dummies(train_y.values.ravel()).values)\n",
        "\n",
        "end_time = time.time()\n",
        "run_time = end_time - start_time\n",
        "\n",
        "print(\"Genetic Algorithm 4th Model Run time: \" + str(run_time))"
      ],
      "execution_count": 15,
      "outputs": []
    },
    {
      "cell_type": "code",
      "metadata": {
        "id": "mYWO9FFo0V9l"
      },
      "source": [
        "from sklearn.metrics import f1_score, accuracy_score, classification_report\n",
        "y_pred = nn_model4.predict(test_X)\n",
        "# print(classification_report(pd.get_dummies(test_y.values.ravel()).values, y_pred))\n",
        "y_pred_train = nn_model4.predict(train_X)\n",
        "# print(classification_report(pd.get_dummies(train_y.values.ravel()).values, y_pred_train))"
      ],
      "execution_count": null,
      "outputs": []
    },
    {
      "cell_type": "code",
      "metadata": {
        "id": "eBWLa2HR0V9n"
      },
      "source": [
        ""
      ],
      "execution_count": null,
      "outputs": []
    }
  ]
}